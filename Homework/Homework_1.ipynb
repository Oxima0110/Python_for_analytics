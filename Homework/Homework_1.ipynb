{
 "cells": [
  {
   "cell_type": "markdown",
   "id": "ab485ade",
   "metadata": {},
   "source": [
    "## Домашнее задание 1\n",
    "Оформляйте ноутбук, используя эти советы:\n",
    "## Номер задачи - заголовок 2\n",
    "### Номер подзадачи - заголовок 3\n",
    "Предоставленные наборы данных оформляйте, как код"
   ]
  },
  {
   "cell_type": "markdown",
   "id": "535ed511",
   "metadata": {},
   "source": [
    "## Домашнее задание 2\n",
    "На складе лежат разные фрукты в разном количестве.\n",
    "Нужно написать функцию, которая на вход принимает любое\n",
    "количество названий фруктов и их количество, а возвращает\n",
    "общее количество фруктов на складе"
   ]
  },
  {
   "cell_type": "code",
   "execution_count": 1,
   "id": "0a7e9c93",
   "metadata": {},
   "outputs": [],
   "source": [
    "def fruit_weight(**kwargs):\n",
    "    return sum(kwargs.values())"
   ]
  },
  {
   "cell_type": "code",
   "execution_count": 3,
   "id": "ebf5c6d9",
   "metadata": {},
   "outputs": [
    {
     "data": {
      "text/plain": [
       "30"
      ]
     },
     "execution_count": 3,
     "metadata": {},
     "output_type": "execute_result"
    }
   ],
   "source": [
    "fruit_weight(apple = 10, pear = 5, plum = 15)"
   ]
  },
  {
   "cell_type": "markdown",
   "id": "bff26538",
   "metadata": {},
   "source": [
    "## Домашнее задание 3\n",
    "Дан список с затратами на рекламу. Но в данных есть ошибки,\n",
    "некоторые затраты имеют отрицательную величину. Удалите\n",
    "такие значения из списка и посчитайте суммарные затраты\n",
    "[100, 125, -90, 345, 655, -1, 0, 200]\n",
    "Используйте list comprehensions"
   ]
  },
  {
   "cell_type": "code",
   "execution_count": 4,
   "id": "1f7aa5d5",
   "metadata": {},
   "outputs": [],
   "source": [
    "ls_reclama = [100, 125, -90, 345, 655, -1, 0, 200]"
   ]
  },
  {
   "cell_type": "code",
   "execution_count": 5,
   "id": "5bd58fc3",
   "metadata": {},
   "outputs": [],
   "source": [
    "def cost_reclama(ls:list)->int:\n",
    "    cost = [i for i in ls if i >0]\n",
    "    return sum(cost)"
   ]
  },
  {
   "cell_type": "code",
   "execution_count": 6,
   "id": "800da734",
   "metadata": {},
   "outputs": [
    {
     "data": {
      "text/plain": [
       "1425"
      ]
     },
     "execution_count": 6,
     "metadata": {},
     "output_type": "execute_result"
    }
   ],
   "source": [
    "cost_reclama(ls_reclama)"
   ]
  },
  {
   "cell_type": "markdown",
   "id": "21804011",
   "metadata": {},
   "source": [
    "### Домашнее задание 4\n",
    "Даны два списка.\n",
    "\n",
    "Дата покупки\n",
    "\n",
    "['2021-09-14', '2021-12-15', '2021-09-08', '2021-12-05', '2021-10-09', '2021-09-30', '2021-12-22', '2021-11-29', '2021-12-24', '2021-11-26', '2021-10-27', '2021-12-18', '2021-11-09', '2021-11-23', '2021-09-27',\n",
    "'2021-10-02', '2021-12-27', '2021-09-20', '2021-12-13', '2021-11-01', '2021-11-09', '2021-12-06', '2021-12-08', '2021-10-09', '2021-10-31', '2021-09-30', '2021-11-09', '2021-12-13', '2021-10-26', '2021-12-09']\n",
    "\n",
    "Суммы покупок по датам\n",
    "\n",
    "[1270, 8413, 9028, 3703, 5739, 4095, 295, 4944, 5723, 3701, 4471, 651, 7037, 4274, 6275, 4988, 6930, 2971, 6592, 2004, 2822, 519, 3406, 2732, 5015, 2008, 316, 6333, 5700, 2887]"
   ]
  },
  {
   "cell_type": "markdown",
   "id": "e7aeada7",
   "metadata": {},
   "source": [
    "### 4.1 Найдите, какая выручка у компании в ноябре\n",
    "Используйте list comprehensions"
   ]
  },
  {
   "cell_type": "code",
   "execution_count": 7,
   "id": "361b2122",
   "metadata": {},
   "outputs": [],
   "source": [
    "data = ['2021-09-14', '2021-12-15', '2021-09-08', '2021-12-05', '2021-10-09', '2021-09-30', '2021-12-22', '2021-11-29', '2021-12-24', '2021-11-26', '2021-10-27', '2021-12-18', '2021-11-09', '2021-11-23', '2021-09-27', '2021-10-02', '2021-12-27', '2021-09-20', '2021-12-13', '2021-11-01', '2021-11-09', '2021-12-06', '2021-12-08', '2021-10-09', '2021-10-31', '2021-09-30', '2021-11-09', '2021-12-13', '2021-10-26', '2021-12-09']\n",
    "money = [1270, 8413, 9028, 3703, 5739, 4095, 295, 4944, 5723, 3701, 4471, 651, 7037, 4274, 6275, 4988, 6930, 2971, 6592, 2004, 2822, 519, 3406, 2732, 5015, 2008, 316, 6333, 5700, 2887]"
   ]
  },
  {
   "cell_type": "code",
   "execution_count": 15,
   "id": "6cef3cef",
   "metadata": {},
   "outputs": [],
   "source": [
    "def sum_month(ls_data: list, ls_money: list, month: str)->int:\n",
    "    ls = {i: j for (i,j) in zip(ls_data,ls_money)}\n",
    "    month_money = [ls[i] for i in ls if i.split(\"-\")[1] == month]\n",
    "    return sum(month_money)"
   ]
  },
  {
   "cell_type": "code",
   "execution_count": 16,
   "id": "32c4c2b1",
   "metadata": {},
   "outputs": [
    {
     "data": {
      "text/plain": [
       "15239"
      ]
     },
     "execution_count": 16,
     "metadata": {},
     "output_type": "execute_result"
    }
   ],
   "source": [
    "sum_month(data, money, '11')"
   ]
  },
  {
   "cell_type": "markdown",
   "id": "be57239f",
   "metadata": {},
   "source": [
    "### 4.2 Найдите выручку компании в зависимости от месяца\n",
    "Для этого напишите функцию, которая на вход принимает список с датами и список с выручкой, а на выходе словарь, где\n",
    "ключи - это месяцы, а значения - это выручка.\n",
    "Используйте аннотирование типов."
   ]
  },
  {
   "cell_type": "code",
   "execution_count": 25,
   "id": "e8f2b10d",
   "metadata": {},
   "outputs": [],
   "source": [
    "def sum_year(ls_data: list, ls_money: list)->dict:\n",
    "    dc = {i: j for (i,j) in zip(ls_data,ls_money)}\n",
    "    dict_year = {}\n",
    "    for x, y in dc.items():\n",
    "        if x.split(\"-\")[1] in dict_year:\n",
    "            sum_month = dict_year[x.split(\"-\")[1]] + y\n",
    "            dict_year[x.split(\"-\")[1]] = sum_month\n",
    "        else:\n",
    "            dict_year[x.split(\"-\")[1]] = y\n",
    "    return dict_year\n",
    "    "
   ]
  },
  {
   "cell_type": "code",
   "execution_count": 26,
   "id": "0e2105e6",
   "metadata": {},
   "outputs": [
    {
     "data": {
      "text/plain": [
       "{'09': 21552, '12': 38860, '10': 22906, '11': 15239}"
      ]
     },
     "execution_count": 26,
     "metadata": {},
     "output_type": "execute_result"
    }
   ],
   "source": [
    "sum_year(data, money)"
   ]
  }
 ],
 "metadata": {
  "kernelspec": {
   "display_name": "Python 3 (ipykernel)",
   "language": "python",
   "name": "python3"
  },
  "language_info": {
   "codemirror_mode": {
    "name": "ipython",
    "version": 3
   },
   "file_extension": ".py",
   "mimetype": "text/x-python",
   "name": "python",
   "nbconvert_exporter": "python",
   "pygments_lexer": "ipython3",
   "version": "3.9.12"
  }
 },
 "nbformat": 4,
 "nbformat_minor": 5
}
