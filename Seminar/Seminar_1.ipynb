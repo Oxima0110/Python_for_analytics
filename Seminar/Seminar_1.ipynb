{
 "cells": [
  {
   "cell_type": "markdown",
   "id": "679d4825",
   "metadata": {},
   "source": [
    "## Задание 1.\n",
    "### 1.1 Соедините два словаря в один\n"
   ]
  },
  {
   "cell_type": "code",
   "execution_count": 13,
   "id": "8a48f333",
   "metadata": {},
   "outputs": [],
   "source": [
    "dict1 = {'One': 1, 'Two': 2, 'Three': 3}\n",
    "dict2 = {'Four': 4, 'Five': 5, 'Six': 6}"
   ]
  },
  {
   "cell_type": "code",
   "execution_count": 14,
   "id": "e1e30e63",
   "metadata": {},
   "outputs": [
    {
     "data": {
      "text/plain": [
       "{'One': 1, 'Two': 2, 'Three': 3, 'Four': 4, 'Five': 5, 'Six': 6}"
      ]
     },
     "execution_count": 14,
     "metadata": {},
     "output_type": "execute_result"
    }
   ],
   "source": [
    "dict1.update(dict2)\n",
    "dict1"
   ]
  },
  {
   "cell_type": "markdown",
   "id": "98186ee6",
   "metadata": {},
   "source": [
    "### 1.2 Напишите функцию, которая на вход принимает два словаря и возвращает один объединенный словарь"
   ]
  },
  {
   "cell_type": "code",
   "execution_count": 16,
   "id": "9f4d75ff",
   "metadata": {},
   "outputs": [],
   "source": [
    "dict1 = {'One': 1, 'Two': 2, 'Three': 3}\n",
    "dict2 = {'Four': 4, 'Five': 5, 'Six': 6}"
   ]
  },
  {
   "cell_type": "code",
   "execution_count": 17,
   "id": "395af7d0",
   "metadata": {},
   "outputs": [],
   "source": [
    "def sum_dic(a:dict, b:dict) -> dict:\n",
    "    c = {**a, **b}\n",
    "    return c"
   ]
  },
  {
   "cell_type": "code",
   "execution_count": 18,
   "id": "9b116c8d",
   "metadata": {},
   "outputs": [
    {
     "data": {
      "text/plain": [
       "{'One': 1, 'Two': 2, 'Three': 3, 'Four': 4, 'Five': 5, 'Six': 6}"
      ]
     },
     "execution_count": 18,
     "metadata": {},
     "output_type": "execute_result"
    }
   ],
   "source": [
    "sum_dic(dict1, dict2)\n"
   ]
  },
  {
   "cell_type": "markdown",
   "id": "92bc31f5",
   "metadata": {},
   "source": [
    "## Задание 2.\n",
    "### Напишите функцию, которая из двух списков, делает один словарь, где\n",
    "### элементы из первого списка - ключи, а элементы из второго списка -\n",
    "### значения"
   ]
  },
  {
   "cell_type": "markdown",
   "id": "e7df04e0",
   "metadata": {},
   "source": [
    "### 2.1 Используя цикл for"
   ]
  },
  {
   "cell_type": "code",
   "execution_count": 20,
   "id": "dcdd2b9c",
   "metadata": {},
   "outputs": [],
   "source": [
    "kyes = ['One', 'Two', 'Three']\n",
    "values = [1, 2, 3]"
   ]
  },
  {
   "cell_type": "code",
   "execution_count": 29,
   "id": "d5ad2311",
   "metadata": {},
   "outputs": [
    {
     "data": {
      "text/plain": [
       "{'One': 1, 'Two': 2, 'Three': 3}"
      ]
     },
     "execution_count": 29,
     "metadata": {},
     "output_type": "execute_result"
    }
   ],
   "source": [
    "def new_dict(kye:list, value:list) -> dict:\n",
    "    my_dict = {}\n",
    "    for i in range(len(kye)):\n",
    "        my_dict[kye[i]] = value[i]\n",
    "    return my_dict\n",
    "new_dict(kyes, values)"
   ]
  },
  {
   "cell_type": "markdown",
   "id": "acdf4f47",
   "metadata": {},
   "source": [
    "### 2.2 Используя dict comprehensions"
   ]
  },
  {
   "cell_type": "code",
   "execution_count": 30,
   "id": "fa36371a",
   "metadata": {},
   "outputs": [
    {
     "data": {
      "text/plain": [
       "{'One': 1, 'Two': 2, 'Three': 3}"
      ]
     },
     "execution_count": 30,
     "metadata": {},
     "output_type": "execute_result"
    }
   ],
   "source": [
    "my_dict1 = {i:j for (i,j) in zip(kyes, values)}\n",
    "my_dict1"
   ]
  },
  {
   "cell_type": "markdown",
   "id": "dd34ff23",
   "metadata": {},
   "source": [
    "## Задание 3.\n",
    "### Извлеките только два ключа name и age из представленного\n",
    "### словаря"
   ]
  },
  {
   "cell_type": "markdown",
   "id": "610fc3db",
   "metadata": {},
   "source": [
    "### 3.1 Напишите функцию с циклом for\n",
    "Функция на вход принимает:\n",
    "исходный словарь\n",
    "ключи, которые нужно извлечь (аргумент по\n",
    "умолчанию)\n",
    "На выходе словарь с нужными ключами\n",
    "Используйте аннотирование типов\n"
   ]
  },
  {
   "cell_type": "code",
   "execution_count": 35,
   "id": "5f0c6a38",
   "metadata": {},
   "outputs": [],
   "source": [
    "client_dict = {\n",
    "    \"name\": \"John\",\n",
    "    \"age\": 25,\n",
    "    \"salary\": 5000,\n",
    "    \"city\": \"Moscow\"\n",
    "}"
   ]
  },
  {
   "cell_type": "code",
   "execution_count": 36,
   "id": "4655c8d8",
   "metadata": {},
   "outputs": [],
   "source": [
    "keys = [\"name\", \"age\"]\n",
    "def my_dict(a: dict, keys:list)-> dict:\n",
    "    new_dict = {}\n",
    "    for key in keys:\n",
    "        new_dict[key] = a[key]\n",
    "    return new_dict"
   ]
  },
  {
   "cell_type": "code",
   "execution_count": 37,
   "id": "3dc969af",
   "metadata": {},
   "outputs": [
    {
     "data": {
      "text/plain": [
       "{'name': 'John', 'age': 25}"
      ]
     },
     "execution_count": 37,
     "metadata": {},
     "output_type": "execute_result"
    }
   ],
   "source": [
    "keys = [\"name\", \"age\"]\n",
    "my_dict(client_dict, keys)"
   ]
  },
  {
   "cell_type": "markdown",
   "id": "4df3fb77",
   "metadata": {},
   "source": [
    "### 3.2 Используя dict comprehensions"
   ]
  },
  {
   "cell_type": "code",
   "execution_count": 38,
   "id": "ccd49604",
   "metadata": {},
   "outputs": [
    {
     "data": {
      "text/plain": [
       "{'name': 'John', 'age': 25}"
      ]
     },
     "execution_count": 38,
     "metadata": {},
     "output_type": "execute_result"
    }
   ],
   "source": [
    "my_dict1 = {i:client_dict[i] for i in client_dict if i in keys}\n",
    "my_dict1"
   ]
  },
  {
   "cell_type": "markdown",
   "id": "6ff5c781",
   "metadata": {},
   "source": [
    "## Задание 4.\n",
    "### 4.1 Сгенерируйте случайные целые числа от 0 до\n",
    "### 100 в количестве 5 штук с помощью модуля\n",
    "### random\n",
    "● Зафиксируйте псевдогенерацию, чтобы\n",
    "сгенерированные значения всегда были одинаковые\n",
    "\n",
    "● Используйте list comprehensions\n"
   ]
  },
  {
   "cell_type": "code",
   "execution_count": 39,
   "id": "4b55e787",
   "metadata": {},
   "outputs": [],
   "source": [
    "import random"
   ]
  },
  {
   "cell_type": "code",
   "execution_count": 43,
   "id": "59589550",
   "metadata": {},
   "outputs": [
    {
     "data": {
      "text/plain": [
       "[98, 26, 36, 15, 70]"
      ]
     },
     "execution_count": 43,
     "metadata": {},
     "output_type": "execute_result"
    }
   ],
   "source": [
    "list_random = []\n",
    "for i in range(5):\n",
    "    list_random.append(random.randint(0,100))\n",
    "list_random"
   ]
  },
  {
   "cell_type": "code",
   "execution_count": 44,
   "id": "40a1169d",
   "metadata": {},
   "outputs": [
    {
     "data": {
      "text/plain": [
       "[73, 73, 73, 73, 73]"
      ]
     },
     "execution_count": 44,
     "metadata": {},
     "output_type": "execute_result"
    }
   ],
   "source": [
    "list_random1 = []\n",
    "for i in range(5):\n",
    "    random.seed(10)\n",
    "    list_random1.append(random.randint(0,100))\n",
    "list_random1"
   ]
  },
  {
   "cell_type": "code",
   "execution_count": 45,
   "id": "bb0fcaaf",
   "metadata": {},
   "outputs": [
    {
     "data": {
      "text/plain": [
       "[4, 54, 61, 73, 1]"
      ]
     },
     "execution_count": 45,
     "metadata": {},
     "output_type": "execute_result"
    }
   ],
   "source": [
    "list_random2 = [random.randint(0,100) for i in range(5)]\n",
    "list_random2"
   ]
  },
  {
   "cell_type": "code",
   "execution_count": 46,
   "id": "4778d1bb",
   "metadata": {},
   "outputs": [
    {
     "data": {
      "text/plain": [
       "[26, 59, 62, 35, 83]"
      ]
     },
     "execution_count": 46,
     "metadata": {},
     "output_type": "execute_result"
    }
   ],
   "source": [
    "[random.randint(0,100) for i in range(5)]"
   ]
  },
  {
   "cell_type": "markdown",
   "id": "bc89f4c3",
   "metadata": {},
   "source": [
    "### 4.2 Напишите генератор\n",
    "Генератор на вход принимает список с данными о клиенте (данные\n",
    "из пункта 4.1)\n",
    "\n",
    "Внутри генератора реализуйте обход по списку с данными\n",
    "На каждой итерации генератор будет возвращать кортеж из двух\n",
    "элементов:\n",
    "1. данные по клиенту (в зависимости от итерации, на 0 итерации\n",
    "вернется 0 элемент, на 1 итерации вернется 1 элемент и тд)\n",
    "\n",
    "2. целочисленное значение, которое показывает, сколько секунд\n",
    "прошло с предыдущей итерации\n",
    "\n",
    "Примечание: секунды, которые возвращаются должны показывать время не\n",
    "с начала запуска генератора, а именно то время, которое прошло с\n",
    "предыдущей итерации. А значит время на первой итерации должно\n",
    "равняться 0.\n",
    "\n",
    "Используйте функцию time из модуля time для подсчета времени.\n",
    "\n",
    "Чтобы проверить работу таймера, запустите проход по\n",
    "генератору в цикле с time.sleep(2)"
   ]
  },
  {
   "cell_type": "code",
   "execution_count": null,
   "id": "c67dc780",
   "metadata": {},
   "outputs": [],
   "source": []
  },
  {
   "cell_type": "markdown",
   "id": "320cd472",
   "metadata": {},
   "source": [
    "## Задание 6.\n",
    "Напишите функцию, которая может принимать любое\n",
    "количество трат пользователя и считать сумму и среднее.\n",
    "На вход поступают целочисленные значения в любом\n",
    "количестве\n",
    "На выходе словарь с ключами суммы трат и средней\n",
    "траты\n"
   ]
  },
  {
   "cell_type": "code",
   "execution_count": 47,
   "id": "d09f9599",
   "metadata": {},
   "outputs": [],
   "source": [
    "def agregator(*args):\n",
    "    return {\n",
    "        \"sum\":sum(args),\n",
    "        \"mean\":sum(args)/len(args)\n",
    "    }"
   ]
  },
  {
   "cell_type": "code",
   "execution_count": 48,
   "id": "a8ddc158",
   "metadata": {},
   "outputs": [
    {
     "data": {
      "text/plain": [
       "{'sum': 30, 'mean': 10.0}"
      ]
     },
     "execution_count": 48,
     "metadata": {},
     "output_type": "execute_result"
    }
   ],
   "source": [
    "agregator(5, 10, 15)"
   ]
  },
  {
   "cell_type": "code",
   "execution_count": 49,
   "id": "7ab2996b",
   "metadata": {},
   "outputs": [],
   "source": [
    "def named_agg(**kwargs):\n",
    "    return {\"Names\": kwargs.keys(),\n",
    "            \"Sum\": sum(kwargs.values()),\n",
    "            \"Mean\": sum(kwargs.values())/len(kwargs.values())\n",
    "            }"
   ]
  },
  {
   "cell_type": "code",
   "execution_count": 50,
   "id": "c9f56217",
   "metadata": {},
   "outputs": [
    {
     "data": {
      "text/plain": [
       "{'Names': dict_keys(['John', 'Michael', 'Nik', 'Ivan']),\n",
       " 'Sum': 70,\n",
       " 'Mean': 17.5}"
      ]
     },
     "execution_count": 50,
     "metadata": {},
     "output_type": "execute_result"
    }
   ],
   "source": [
    "named_agg(John=5, Michael=10, Nik=15, Ivan=40)"
   ]
  },
  {
   "cell_type": "code",
   "execution_count": null,
   "id": "55dff17d",
   "metadata": {},
   "outputs": [],
   "source": []
  }
 ],
 "metadata": {
  "kernelspec": {
   "display_name": "Python 3 (ipykernel)",
   "language": "python",
   "name": "python3"
  },
  "language_info": {
   "codemirror_mode": {
    "name": "ipython",
    "version": 3
   },
   "file_extension": ".py",
   "mimetype": "text/x-python",
   "name": "python",
   "nbconvert_exporter": "python",
   "pygments_lexer": "ipython3",
   "version": "3.9.12"
  }
 },
 "nbformat": 4,
 "nbformat_minor": 5
}
