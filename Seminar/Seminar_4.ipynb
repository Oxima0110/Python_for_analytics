{
 "cells": [
  {
   "cell_type": "markdown",
   "id": "a1409bc4",
   "metadata": {},
   "source": [
    "## Задание 1.\n",
    "1. Скачать данные по ссылке\n",
    "https://drive.google.com/file/d/1MpAdHAl727fO3oW32NO4FpSRhUBUfjfS\n",
    "2. Считать данные с помощью pandas\n",
    "3. Вывести на экран первые 5 строк"
   ]
  },
  {
   "cell_type": "code",
   "execution_count": 1,
   "id": "420737bf",
   "metadata": {},
   "outputs": [],
   "source": [
    "import pandas as pd\n",
    "import numpy as np"
   ]
  },
  {
   "cell_type": "code",
   "execution_count": 5,
   "id": "bc39440d",
   "metadata": {},
   "outputs": [
    {
     "data": {
      "text/html": [
       "<div>\n",
       "<style scoped>\n",
       "    .dataframe tbody tr th:only-of-type {\n",
       "        vertical-align: middle;\n",
       "    }\n",
       "\n",
       "    .dataframe tbody tr th {\n",
       "        vertical-align: top;\n",
       "    }\n",
       "\n",
       "    .dataframe thead th {\n",
       "        text-align: right;\n",
       "    }\n",
       "</style>\n",
       "<table border=\"1\" class=\"dataframe\">\n",
       "  <thead>\n",
       "    <tr style=\"text-align: right;\">\n",
       "      <th></th>\n",
       "      <th>Company</th>\n",
       "      <th>Product</th>\n",
       "      <th>TypeName</th>\n",
       "      <th>Inches</th>\n",
       "      <th>Cpu</th>\n",
       "      <th>Ram</th>\n",
       "      <th>Gpu</th>\n",
       "      <th>OpSys</th>\n",
       "      <th>Weight</th>\n",
       "      <th>Price_euros</th>\n",
       "      <th>Cpu_Company</th>\n",
       "      <th>Memory_Amount</th>\n",
       "      <th>Memory_Type</th>\n",
       "    </tr>\n",
       "  </thead>\n",
       "  <tbody>\n",
       "    <tr>\n",
       "      <th>0</th>\n",
       "      <td>Apple</td>\n",
       "      <td>MacBook Pro</td>\n",
       "      <td>Ultrabook</td>\n",
       "      <td>13.3</td>\n",
       "      <td>Intel Core i5 2.3GHz</td>\n",
       "      <td>8GB</td>\n",
       "      <td>Intel Iris Plus Graphics 640</td>\n",
       "      <td>macOS</td>\n",
       "      <td>1.37</td>\n",
       "      <td>1339.69</td>\n",
       "      <td>Intel</td>\n",
       "      <td>128</td>\n",
       "      <td>SSD</td>\n",
       "    </tr>\n",
       "    <tr>\n",
       "      <th>1</th>\n",
       "      <td>Apple</td>\n",
       "      <td>Macbook Air</td>\n",
       "      <td>Ultrabook</td>\n",
       "      <td>13.3</td>\n",
       "      <td>Intel Core i5 1.8GHz</td>\n",
       "      <td>8GB</td>\n",
       "      <td>Intel HD Graphics 6000</td>\n",
       "      <td>macOS</td>\n",
       "      <td>1.34</td>\n",
       "      <td>898.94</td>\n",
       "      <td>Intel</td>\n",
       "      <td>128</td>\n",
       "      <td>FlashStorage</td>\n",
       "    </tr>\n",
       "    <tr>\n",
       "      <th>2</th>\n",
       "      <td>HP</td>\n",
       "      <td>250 G6</td>\n",
       "      <td>Notebook</td>\n",
       "      <td>15.6</td>\n",
       "      <td>Intel Core i5 7200U 2.5GHz</td>\n",
       "      <td>8GB</td>\n",
       "      <td>Intel HD Graphics 620</td>\n",
       "      <td>No OS</td>\n",
       "      <td>1.86</td>\n",
       "      <td>575.00</td>\n",
       "      <td>Intel</td>\n",
       "      <td>256</td>\n",
       "      <td>SSD</td>\n",
       "    </tr>\n",
       "    <tr>\n",
       "      <th>3</th>\n",
       "      <td>Apple</td>\n",
       "      <td>MacBook Pro</td>\n",
       "      <td>Ultrabook</td>\n",
       "      <td>15.4</td>\n",
       "      <td>Intel Core i7 2.7GHz</td>\n",
       "      <td>16GB</td>\n",
       "      <td>AMD Radeon Pro 455</td>\n",
       "      <td>macOS</td>\n",
       "      <td>1.83</td>\n",
       "      <td>2537.45</td>\n",
       "      <td>Intel</td>\n",
       "      <td>512</td>\n",
       "      <td>SSD</td>\n",
       "    </tr>\n",
       "    <tr>\n",
       "      <th>4</th>\n",
       "      <td>Apple</td>\n",
       "      <td>MacBook Pro</td>\n",
       "      <td>Ultrabook</td>\n",
       "      <td>13.3</td>\n",
       "      <td>Intel Core i5 3.1GHz</td>\n",
       "      <td>8GB</td>\n",
       "      <td>Intel Iris Plus Graphics 650</td>\n",
       "      <td>macOS</td>\n",
       "      <td>1.37</td>\n",
       "      <td>1803.60</td>\n",
       "      <td>Intel</td>\n",
       "      <td>256</td>\n",
       "      <td>SSD</td>\n",
       "    </tr>\n",
       "  </tbody>\n",
       "</table>\n",
       "</div>"
      ],
      "text/plain": [
       "  Company      Product   TypeName  Inches                         Cpu   Ram  \\\n",
       "0   Apple  MacBook Pro  Ultrabook    13.3        Intel Core i5 2.3GHz   8GB   \n",
       "1   Apple  Macbook Air  Ultrabook    13.3        Intel Core i5 1.8GHz   8GB   \n",
       "2      HP       250 G6   Notebook    15.6  Intel Core i5 7200U 2.5GHz   8GB   \n",
       "3   Apple  MacBook Pro  Ultrabook    15.4        Intel Core i7 2.7GHz  16GB   \n",
       "4   Apple  MacBook Pro  Ultrabook    13.3        Intel Core i5 3.1GHz   8GB   \n",
       "\n",
       "                            Gpu  OpSys  Weight  Price_euros Cpu_Company  \\\n",
       "0  Intel Iris Plus Graphics 640  macOS    1.37      1339.69       Intel   \n",
       "1        Intel HD Graphics 6000  macOS    1.34       898.94       Intel   \n",
       "2         Intel HD Graphics 620  No OS    1.86       575.00       Intel   \n",
       "3            AMD Radeon Pro 455  macOS    1.83      2537.45       Intel   \n",
       "4  Intel Iris Plus Graphics 650  macOS    1.37      1803.60       Intel   \n",
       "\n",
       "   Memory_Amount   Memory_Type  \n",
       "0            128           SSD  \n",
       "1            128  FlashStorage  \n",
       "2            256           SSD  \n",
       "3            512           SSD  \n",
       "4            256           SSD  "
      ]
     },
     "execution_count": 5,
     "metadata": {},
     "output_type": "execute_result"
    }
   ],
   "source": [
    "df = pd.read_csv('C:/Users/Admin/Downloads/laptops_10.csv', encoding=\"latin-1\")\n",
    "df.head()"
   ]
  },
  {
   "cell_type": "markdown",
   "id": "3802eefe",
   "metadata": {},
   "source": [
    "### 1.1 Изучите количество памяти с помощью matplotlib"
   ]
  },
  {
   "cell_type": "code",
   "execution_count": 7,
   "id": "e9cb3353",
   "metadata": {},
   "outputs": [],
   "source": [
    "import matplotlib.pyplot as plt"
   ]
  },
  {
   "cell_type": "code",
   "execution_count": 9,
   "id": "b4092429",
   "metadata": {},
   "outputs": [
    {
     "data": {
      "image/png": "[encoded data removed]",
      "text/plain": [
       "<Figure size 432x288 with 1 Axes>"
      ]
     },
     "metadata": {
      "needs_background": "light"
     },
     "output_type": "display_data"
    }
   ],
   "source": [
    "plt.figure(figsize=(6, 4))\n",
    "plt.hist(df['Memory_Amount'], bins=15)\n",
    "plt.title('Анализ ноутбуков в зависимости от объема памяти')\n",
    "plt.xlabel('Объем памяти, GB')\n",
    "plt.ylabel('Цена, евро');"
   ]
  },
  {
   "cell_type": "markdown",
   "id": "c9ad5c97",
   "metadata": {},
   "source": [
    "### 1.2 Изучите стоимость ноутбуков с помощью matplotlib"
   ]
  },
  {
   "cell_type": "code",
   "execution_count": 10,
   "id": "e5dc98c6",
   "metadata": {},
   "outputs": [
    {
     "data": {
      "image/png": "[encoded data removed]",
      "text/plain": [
       "<Figure size 432x288 with 1 Axes>"
      ]
     },
     "metadata": {
      "needs_background": "light"
     },
     "output_type": "display_data"
    }
   ],
   "source": [
    "plt.figure(figsize=(6, 4))\n",
    "plt.hist(df['Price_euros'])\n",
    "plt.title('стоимость ноутбуков')\n",
    "plt.xlabel('стоимость')\n",
    "plt.ylabel('Количество');"
   ]
  },
  {
   "cell_type": "markdown",
   "id": "0f3ee385",
   "metadata": {},
   "source": [
    "### 1.3 Изучите вес ноутбуков с помощью matplotlib\n",
    "Постройте график\n",
    "Назовите график\n",
    "Сделайте именование оси x и оси y\n",
    "Сделайте выводы"
   ]
  },
  {
   "cell_type": "code",
   "execution_count": 12,
   "id": "83baa0a8",
   "metadata": {},
   "outputs": [
    {
     "data": {
      "image/png": "[encoded data removed]",
      "text/plain": [
       "<Figure size 432x288 with 1 Axes>"
      ]
     },
     "metadata": {
      "needs_background": "light"
     },
     "output_type": "display_data"
    }
   ],
   "source": [
    "plt.figure(figsize=(6, 4))\n",
    "plt.hist(df['Weight'])\n",
    "plt.title('вес ноутбуков')\n",
    "plt.xlabel('вес')\n",
    "plt.ylabel('Количество');"
   ]
  },
  {
   "cell_type": "markdown",
   "id": "e0d4a41a",
   "metadata": {},
   "source": [
    "## Задание 2.\n",
    "### 2.1 Изучите распределение типов носителя\n",
    "Постройте график\n",
    "Сделайте выводы"
   ]
  },
  {
   "cell_type": "code",
   "execution_count": 13,
   "id": "ede48007",
   "metadata": {},
   "outputs": [
    {
     "data": {
      "text/plain": [
       "SSD             641\n",
       "HDD             576\n",
       "FlashStorage     74\n",
       "Hybrid           12\n",
       "Name: Memory_Type, dtype: int64"
      ]
     },
     "execution_count": 13,
     "metadata": {},
     "output_type": "execute_result"
    }
   ],
   "source": [
    "memory = df['Memory_Type'].value_counts()\n",
    "memory.head()"
   ]
  },
  {
   "cell_type": "code",
   "execution_count": 14,
   "id": "ca988526",
   "metadata": {},
   "outputs": [
    {
     "data": {
      "image/png": "[encoded data removed]",
      "text/plain": [
       "<Figure size 432x288 with 1 Axes>"
      ]
     },
     "metadata": {
      "needs_background": "light"
     },
     "output_type": "display_data"
    }
   ],
   "source": [
    "plt.figure(figsize=(6, 4))\n",
    "\n",
    "plt.bar(memory.index, memory.values)\n",
    "\n",
    "plt.title('Типы носителя')\n",
    "plt.xlabel('Типы носителя')\n",
    "plt.ylabel('Кол-во')\n",
    "plt.xticks(rotation=30);"
   ]
  },
  {
   "cell_type": "code",
   "execution_count": 15,
   "id": "6fd4bef6",
   "metadata": {},
   "outputs": [
    {
     "data": {
      "image/png": "[encoded data removed]",
      "text/plain": [
       "<Figure size 864x576 with 1 Axes>"
      ]
     },
     "metadata": {},
     "output_type": "display_data"
    }
   ],
   "source": [
    "plt.figure(figsize=(12, 8))\n",
    "\n",
    "plt.pie(memory.values, autopct='%1.1f%%', labels=memory.index)\n",
    "\n",
    "plt.title('Доля типов носителей')\n",
    "plt.legend(memory.index);"
   ]
  },
  {
   "cell_type": "markdown",
   "id": "109f0a2e",
   "metadata": {},
   "source": [
    "### 2.2 Изучите распределение компаний производителей\n",
    "Постройте график\n",
    "Сделайте выводы"
   ]
  },
  {
   "cell_type": "code",
   "execution_count": null,
   "id": "a09b5c16",
   "metadata": {},
   "outputs": [],
   "source": []
  },
  {
   "cell_type": "markdown",
   "id": "9513f719",
   "metadata": {},
   "source": [
    "### 2.3 Изучите распределение операционной системы\n",
    "Постройте график\n",
    "Сделайте выводы"
   ]
  },
  {
   "cell_type": "code",
   "execution_count": null,
   "id": "4e0eb966",
   "metadata": {},
   "outputs": [],
   "source": []
  },
  {
   "cell_type": "markdown",
   "id": "2f7dafb0",
   "metadata": {},
   "source": [
    "### 2.4 Изучите распределение компаний производителей CPU\n",
    "Постройте график\n",
    "Сделайте выводы"
   ]
  },
  {
   "cell_type": "code",
   "execution_count": null,
   "id": "683858d6",
   "metadata": {},
   "outputs": [],
   "source": []
  },
  {
   "cell_type": "markdown",
   "id": "77e84dea",
   "metadata": {},
   "source": [
    "## Задание 4.\n",
    "### 4.1 Изучите взаимосвязь стоимости ноутбука и компании\n",
    "### производителя процессора"
   ]
  },
  {
   "cell_type": "code",
   "execution_count": 17,
   "id": "2f3f462e",
   "metadata": {},
   "outputs": [
    {
     "data": {
      "image/png": "[encoded data removed]",
      "text/plain": [
       "<Figure size 1296x648 with 1 Axes>"
      ]
     },
     "metadata": {
      "needs_background": "light"
     },
     "output_type": "display_data"
    }
   ],
   "source": [
    "import seaborn as sns\n",
    "plt.figure(figsize=(18, 9))\n",
    "\n",
    "sns.boxplot(x=df['Price_euros'], y=df[\"Cpu_Company\"], whis=1.5)\n",
    "\n",
    "plt.xlabel('Price_euros')\n",
    "plt.show()"
   ]
  },
  {
   "cell_type": "code",
   "execution_count": null,
   "id": "2f90ea90",
   "metadata": {},
   "outputs": [],
   "source": []
  }
 ],
 "metadata": {
  "kernelspec": {
   "display_name": "Python 3 (ipykernel)",
   "language": "python",
   "name": "python3"
  },
  "language_info": {
   "codemirror_mode": {
    "name": "ipython",
    "version": 3
   },
   "file_extension": ".py",
   "mimetype": "text/x-python",
   "name": "python",
   "nbconvert_exporter": "python",
   "pygments_lexer": "ipython3",
   "version": "3.9.12"
  }
 },
 "nbformat": 4,
 "nbformat_minor": 5
}
